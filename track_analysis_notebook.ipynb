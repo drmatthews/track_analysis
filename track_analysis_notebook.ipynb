{
 "cells": [
  {
   "cell_type": "code",
   "execution_count": 1,
   "metadata": {
    "collapsed": false
   },
   "outputs": [],
   "source": [
    "# import modules\n",
    "%matplotlib inline\n",
    "from matplotlib import pylab as plt\n",
    "import track_analysis as ta\n",
    "import pandas as pd\n",
    "from IPython.parallel import Client\n",
    "import time\n",
    "import numpy as np"
   ]
  },
  {
   "cell_type": "code",
   "execution_count": 14,
   "metadata": {
    "collapsed": false
   },
   "outputs": [],
   "source": [
    "# import the tracks\n",
    "tracks = ta.ImportTracks(\"/Users/uqdmatt2/Desktop/low after high1_MIA.trc\",source='palmtracer')\n",
    "trajs = tracks.trajectories"
   ]
  },
  {
   "cell_type": "code",
   "execution_count": 15,
   "metadata": {
    "collapsed": false
   },
   "outputs": [
    {
     "data": {
      "text/html": [
       "<div style=\"max-height:1000px;max-width:1500px;overflow:auto;\">\n",
       "<table border=\"1\" class=\"dataframe\">\n",
       "  <thead>\n",
       "    <tr style=\"text-align: right;\">\n",
       "      <th></th>\n",
       "      <th>particle</th>\n",
       "      <th>frame</th>\n",
       "      <th>x</th>\n",
       "      <th>y</th>\n",
       "      <th>good</th>\n",
       "      <th>intensity</th>\n",
       "    </tr>\n",
       "  </thead>\n",
       "  <tbody>\n",
       "    <tr>\n",
       "      <th>0</th>\n",
       "      <td>1</td>\n",
       "      <td>1</td>\n",
       "      <td>77.485712</td>\n",
       "      <td>122.936269</td>\n",
       "      <td>-1</td>\n",
       "      <td>17821.184326</td>\n",
       "    </tr>\n",
       "    <tr>\n",
       "      <th>1</th>\n",
       "      <td>1</td>\n",
       "      <td>2</td>\n",
       "      <td>78.422861</td>\n",
       "      <td>122.014149</td>\n",
       "      <td>-1</td>\n",
       "      <td>18836.117432</td>\n",
       "    </tr>\n",
       "    <tr>\n",
       "      <th>2</th>\n",
       "      <td>1</td>\n",
       "      <td>3</td>\n",
       "      <td>77.724289</td>\n",
       "      <td>122.343125</td>\n",
       "      <td>-1</td>\n",
       "      <td>20526.000977</td>\n",
       "    </tr>\n",
       "    <tr>\n",
       "      <th>3</th>\n",
       "      <td>1</td>\n",
       "      <td>4</td>\n",
       "      <td>76.302280</td>\n",
       "      <td>122.904453</td>\n",
       "      <td>-1</td>\n",
       "      <td>20243.736328</td>\n",
       "    </tr>\n",
       "    <tr>\n",
       "      <th>4</th>\n",
       "      <td>1</td>\n",
       "      <td>5</td>\n",
       "      <td>77.088275</td>\n",
       "      <td>123.343426</td>\n",
       "      <td>-1</td>\n",
       "      <td>7313.189697</td>\n",
       "    </tr>\n",
       "  </tbody>\n",
       "</table>\n",
       "</div>"
      ],
      "text/plain": [
       "   particle  frame          x           y  good     intensity\n",
       "0         1      1  77.485712  122.936269    -1  17821.184326\n",
       "1         1      2  78.422861  122.014149    -1  18836.117432\n",
       "2         1      3  77.724289  122.343125    -1  20526.000977\n",
       "3         1      4  76.302280  122.904453    -1  20243.736328\n",
       "4         1      5  77.088275  123.343426    -1   7313.189697"
      ]
     },
     "execution_count": 15,
     "metadata": {},
     "output_type": "execute_result"
    }
   ],
   "source": [
    "# trajs is a Pandas DataFrame so calling \"head()\" shows the first few rows\n",
    "trajs.head()"
   ]
  },
  {
   "cell_type": "code",
   "execution_count": 16,
   "metadata": {
    "collapsed": false
   },
   "outputs": [
    {
     "data": {
      "text/plain": [
       "3006.0"
      ]
     },
     "execution_count": 16,
     "metadata": {},
     "output_type": "execute_result"
    }
   ],
   "source": [
    "# since it is a Pandas DataFrame it is possible to calculate statistics for any column\n",
    "trajs[\"particle\"].max()"
   ]
  },
  {
   "cell_type": "code",
   "execution_count": 17,
   "metadata": {
    "collapsed": false
   },
   "outputs": [
    {
     "data": {
      "image/png": "[encoded data removed]",
      "text/plain": [
       "<matplotlib.figure.Figure at 0x1119ce250>"
      ]
     },
     "metadata": {},
     "output_type": "display_data"
    },
    {
     "data": {
      "image/png": "[encoded data removed]",
      "text/plain": [
       "<matplotlib.figure.Figure at 0x1120bbbd0>"
      ]
     },
     "metadata": {},
     "output_type": "display_data"
    }
   ],
   "source": [
    "# use the \"track_analysis\" module to slice up the DataFrame\n",
    "trajs_reduced = ta.filter_by_duration(trajs,200)\n",
    "\n",
    "# find track lengths --> returns a Python list of track lengths (frames)\n",
    "track_lengths = ta.track_lengths(trajs)\n",
    "\n",
    "# track lengths of subset\n",
    "track_lengths_subset = ta.track_lengths(trajs_reduced)\n",
    "\n",
    "# find the index of the longest track\n",
    "idx = track_lengths.index(max(track_lengths))\n",
    "longest = trajs[trajs[\"particle\"] == idx]\n",
    "\n",
    "# plot a histogram of track lengths of the complete dataset\n",
    "plt.hist(track_lengths,bins=50,range=[0,max(track_lengths)])\n",
    "plt.xlabel(\"track length (frames)\")\n",
    "plt.ylabel(\"number of tracks\")\n",
    "plt.show()\n",
    "\n",
    "# plot a histogram of track lengths of the subset\n",
    "plt.hist(track_lengths_subset,bins=50,range=[0,max(track_lengths_subset)])\n",
    "plt.xlabel(\"track length (frames)\")\n",
    "plt.ylabel(\"number of tracks\")\n",
    "plt.show()"
   ]
  },
  {
   "cell_type": "code",
   "execution_count": 18,
   "metadata": {
    "collapsed": false
   },
   "outputs": [],
   "source": [
    "# let IPython take care of processing the data in parallel\n",
    "# make sure to start the engines on the cluster (go to the \"Home\" tab)\n",
    "# first make a Client to control the engines\n",
    "c = Client()\n",
    "\n",
    "# and create a balanced view to distribute the work evenly across the cpus\n",
    "lview = c.load_balanced_view()\n",
    "lview.block = True"
   ]
  },
  {
   "cell_type": "code",
   "execution_count": 19,
   "metadata": {
    "collapsed": false
   },
   "outputs": [
    {
     "data": {
      "text/plain": [
       "<AsyncResult: _push>"
      ]
     },
     "execution_count": 19,
     "metadata": {},
     "output_type": "execute_result"
    }
   ],
   "source": [
    "# using IPython to parallel process means exposing a bit of code\n",
    "# the \"smss\" method calculates the moments for mu = 0 : 7\n",
    "# it fits to a log-log plot of moment vs. lagtime\n",
    "# collects the slopes (gamma) and fits gamma vs mu\n",
    "# when mu = 2 it calulates the diffusion coefficient\n",
    "\n",
    "# here smss is an anonymous function\n",
    "# t is the trajectory being processed\n",
    "# mpp is pixel scale\n",
    "# fps is frames per second\n",
    "# maxlag is the maximum value for the time lag\n",
    "smss = lambda t:ta.smss(t,mpp,fps,maxlag)\n",
    "\n",
    "# create a view (essentially a subprocess)\n",
    "dview = c[:]\n",
    "\n",
    "# import the track_analysis module in the view\n",
    "dview.execute('import track_analysis as ta')\n",
    "\n",
    "# send the parameters above to the view\n",
    "params = dict(mpp=0.1, fps=50, maxlag=6)\n",
    "dview.push(params)"
   ]
  },
  {
   "cell_type": "code",
   "execution_count": 20,
   "metadata": {
    "collapsed": false
   },
   "outputs": [
    {
     "name": "stdout",
     "output_type": "stream",
     "text": [
      "2.00543808937\n"
     ]
    }
   ],
   "source": [
    "# execute the results\n",
    "# parallel\n",
    "# time it\n",
    "sp = time.time()\n",
    "\n",
    "# we need to work on the trajectories as a list of DataFrames rather than\n",
    "# one big collection\n",
    "traj_list = ta.trajs_to_list(trajs_reduced)\n",
    "\n",
    "# map the anonymous function to the view\n",
    "parallel_results = lview.map(smss, traj_list)\n",
    "print time.time() - sp\n",
    "\n",
    "# serial - to prove that parallel processing is faster\n",
    "# time it\n",
    "#ss = time.time()\n",
    "\n",
    "# just call the \"imoments\" function on the collection\n",
    "# all looping is done internally but sequentially\n",
    "#serial_results = ta.imss(trajs_reduced,0.1,1/20.0e-3,6)\n",
    "#print time.time() - ss"
   ]
  },
  {
   "cell_type": "code",
   "execution_count": 21,
   "metadata": {
    "collapsed": false
   },
   "outputs": [
    {
     "data": {
      "image/png": "[encoded data removed]",
      "text/plain": [
       "<matplotlib.figure.Figure at 0x1124c9b50>"
      ]
     },
     "metadata": {},
     "output_type": "display_data"
    }
   ],
   "source": [
    "# retrieve the diffusion coefficients from the parallel results\n",
    "idiff = ta.diffusion_coefficients(parallel_results)\n",
    "\n",
    "# retrieve smss values for each track - i.e.\n",
    "# the slope of gamma vs. mu for each track\n",
    "# smss indicates the type of motion for self-similar tracks\n",
    "# smss = 0 --> immobile\n",
    "# smss = 0.5 --> brownian motion\n",
    "# smss < 0.5 --> confined\n",
    "# smss > 0.5 --> directed\n",
    "ismss = ta.smss_values(parallel_results)\n",
    "\n",
    "plt.semilogx(idiff,ismss,'o')\n",
    "plt.ylim([0,1.0])\n",
    "plt.xlabel(\"Diffusion coefficient\")\n",
    "plt.ylabel(\"SMSS\")\n",
    "plt.show()"
   ]
  },
  {
   "cell_type": "code",
   "execution_count": 10,
   "metadata": {
    "collapsed": false
   },
   "outputs": [
    {
     "name": "stdout",
     "output_type": "stream",
     "text": [
      "43\n"
     ]
    }
   ],
   "source": [
    "num_results = len(parallel_results)\n",
    "print num_results\n",
    "smss_values = [parallel_results[i][0][0] for i in range(num_results)]"
   ]
  },
  {
   "cell_type": "code",
   "execution_count": 133,
   "metadata": {
    "collapsed": false
   },
   "outputs": [],
   "source": [
    "filt = [(i,smss_values[i]) for i in range(len(smss_values)) if smss_values[i] > 0.7 and brown[i] < 0.8]"
   ]
  },
  {
   "cell_type": "code",
   "execution_count": 134,
   "metadata": {
    "collapsed": false
   },
   "outputs": [],
   "source": [
    "filt_pid = [filt[i][0] for i in range(len(filt))]"
   ]
  },
  {
   "cell_type": "code",
   "execution_count": 135,
   "metadata": {
    "collapsed": false
   },
   "outputs": [],
   "source": [
    "tl = [track_lengths[i] for i in filt_pid]"
   ]
  },
  {
   "cell_type": "code",
   "execution_count": 136,
   "metadata": {
    "collapsed": false
   },
   "outputs": [],
   "source": [
    "tl_idx = tl.index(max(tl))"
   ]
  },
  {
   "cell_type": "code",
   "execution_count": 137,
   "metadata": {
    "collapsed": false
   },
   "outputs": [
    {
     "data": {
      "text/plain": [
       "23"
      ]
     },
     "execution_count": 137,
     "metadata": {},
     "output_type": "execute_result"
    }
   ],
   "source": [
    "tl_idx"
   ]
  },
  {
   "cell_type": "code",
   "execution_count": 138,
   "metadata": {
    "collapsed": false
   },
   "outputs": [
    {
     "data": {
      "image/png": "[encoded data removed]",
      "text/plain": [
       "<matplotlib.figure.Figure at 0x10d2b5410>"
      ]
     },
     "metadata": {},
     "output_type": "display_data"
    }
   ],
   "source": [
    "track = ta.single_track(trajs,tl_idx)\n",
    "plt.plot(track[\"x\"],track[\"y\"],\"k-\")\n",
    "plt.xlabel(\"x position (pixels)\")\n",
    "plt.ylabel(\"y position (pixels)\")\n",
    "plt.show()"
   ]
  },
  {
   "cell_type": "code",
   "execution_count": null,
   "metadata": {
    "collapsed": false
   },
   "outputs": [],
   "source": []
  }
 ],
 "metadata": {
  "kernelspec": {
   "display_name": "Python 2",
   "language": "python",
   "name": "python2"
  },
  "language_info": {
   "codemirror_mode": {
    "name": "ipython",
    "version": 2
   },
   "file_extension": ".py",
   "mimetype": "text/x-python",
   "name": "python",
   "nbconvert_exporter": "python",
   "pygments_lexer": "ipython2",
   "version": "2.7.6"
  }
 },
 "nbformat": 4,
 "nbformat_minor": 0
}
